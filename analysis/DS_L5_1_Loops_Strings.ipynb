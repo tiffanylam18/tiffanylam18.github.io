{
  "cells": [
    {
      "cell_type": "markdown",
      "metadata": {
        "id": "fQu2dIu2ob5U"
      },
      "source": [
        "**Richard Davies** Data Science: Loops\n",
        "\n",
        "In this notebook we will learn useful tools allowing us to iterate (loop) over a list. There are many ways to use loops in Data Science.\n",
        "\n",
        "In this case we will run through a list of data series in order to provide multiple requests to an API, batch downloading this data."
      ]
    },
    {
      "cell_type": "markdown",
      "metadata": {
        "id": "yEo0xRKrLlaw"
      },
      "source": [
        "<br>\n",
        "<br>\n",
        "\n",
        "### Lists\n",
        "\n",
        "Lists are a simple datatype. These are written with comma separated values (items) between square brackets. Just like with numbers or strings, we can assign these to a variable using =.\n",
        "\n",
        "In the code below we have a list of places. We define a variable \"locations\" and assign our list to this variable."
      ]
    },
    {
      "cell_type": "code",
      "execution_count": 1,
      "metadata": {
        "id": "Yv26kvX8MK4Q",
        "outputId": "cfb140bd-d8e8-4ab4-925d-36587fd2cf42",
        "colab": {
          "base_uri": "https://localhost:8080/"
        }
      },
      "outputs": [
        {
          "output_type": "stream",
          "name": "stdout",
          "text": [
            "['London', 'Swansea', 'Cardiff', 'Belfast']\n"
          ]
        }
      ],
      "source": [
        "locations = [\"London\", \"Swansea\", \"Cardiff\", \"Belfast\"]   # Creating a list of locations\n",
        "\n",
        "# We have a list of locations, let's print these out\n",
        "print(locations)"
      ]
    },
    {
      "cell_type": "markdown",
      "metadata": {
        "id": "EbiaZD5EL5Hh"
      },
      "source": [
        "<br>\n",
        "<br>\n",
        "\n",
        "### Printing items from a list\n",
        "\n",
        "If we want to retrieve individual items in the list, we use \"indexing\".\n",
        "\n",
        "**Note:** One rule to remember is that indexing starts at 0. So the array above has positions 0, 1, 2 and 3.\n",
        "\n",
        "Q. What will asking for position 4 do?"
      ]
    },
    {
      "cell_type": "code",
      "execution_count": 2,
      "metadata": {
        "id": "iUAzn0NKM6kx",
        "outputId": "4a99be84-ed2a-4422-a293-eebf8530e3e9",
        "colab": {
          "base_uri": "https://localhost:8080/"
        }
      },
      "outputs": [
        {
          "output_type": "stream",
          "name": "stdout",
          "text": [
            "London\n",
            "Cardiff\n",
            "Swansea\n"
          ]
        }
      ],
      "source": [
        "print(locations[0])\n",
        "print(locations[2])\n",
        "print(locations[1])"
      ]
    },
    {
      "cell_type": "markdown",
      "metadata": {
        "id": "hxPcB55pNAxV"
      },
      "source": [
        "<br>\n",
        "<br>\n",
        "\n",
        "### Loops\n",
        "\n",
        "Any time we have repetitive code like that above, we should consider a loop. This is not just to show off. Manually copying code like the above leads to errors, and it is time consuming. Loops make you more accurate, and more efficient.\n",
        "\n",
        "With the \"for\" loop we can execute a set of statements, once for each item in a list."
      ]
    },
    {
      "cell_type": "code",
      "execution_count": 3,
      "metadata": {
        "id": "6jw1j049SAgK",
        "outputId": "2d948486-d89d-48b8-d5e6-59ce1201719a",
        "colab": {
          "base_uri": "https://localhost:8080/"
        }
      },
      "outputs": [
        {
          "output_type": "stream",
          "name": "stdout",
          "text": [
            "Bristol\n",
            "London\n",
            "Newport\n"
          ]
        }
      ],
      "source": [
        "## Here is our first loop:\n",
        "\n",
        "locations = [\"Bristol\", \"London\", \"Newport\"]\n",
        "\n",
        "for i in locations:\n",
        "  print(i)"
      ]
    },
    {
      "cell_type": "markdown",
      "metadata": {
        "id": "0Q86xlmIVEb6"
      },
      "source": [
        "<br>\n",
        "<br>\n",
        "\n",
        "### The string format method {}\n",
        "\n",
        "To get the most out of loops, we will often want to change them in each iteration. The logic here is that we don't want to do EXACTLY the same thing again and again, but rather we want to do lots of very similar tasks.\n",
        "\n",
        "Hint: if you ever write a loop that is not working, one reason can be that your command is not changing with each iteration.\n",
        "\n",
        "In this case we want to chance some string in each iteration. To do this we can use something called format method. You can read more about this [here](https://www.w3schools.com/python/ref_string_format.asp)."
      ]
    },
    {
      "cell_type": "code",
      "execution_count": null,
      "metadata": {
        "id": "MGAuNZhEXzEn",
        "outputId": "3dd6ae16-18d8-4046-b32d-e4df317f68ce",
        "collapsed": true
      },
      "outputs": [
        {
          "data": {
            "text/plain": [
              "'The best rugby team in the world is Wales'"
            ]
          },
          "execution_count": 4,
          "metadata": {},
          "output_type": "execute_result"
        }
      ],
      "source": [
        "# Take any string variable, and put a placeholder {} where we want to insert something:\n",
        "x = \"The best rugby team in the world is {}\"\n",
        "\n",
        "# Now we can use .format() to insert something into this place:\n",
        "x.format('Wales')"
      ]
    },
    {
      "cell_type": "code",
      "source": [
        "# We can do this with two (or many) placeholders:\n",
        "\n",
        "\"The best Football Team in the World is {} and the best player is {}\"\n",
        "\n",
        "# // We will need a way to differentiate between the two placeholders.\n",
        "# // This can be done using numbers or words\n",
        "\n",
        "\"The best Football Team in the World is {1} and the best player is {2}\"\n",
        "\n",
        "# // Our challenge now is to fill spaces {1} and {2} with the things that we want.\n",
        "\n",
        "# // Lets try this to build some logic:\n",
        "\n",
        "myEmptySentence = \"The best Football Team in the World is {1} and the best player is {2}\"\n",
        "\n",
        "mySentence = myEmptySentence.format(\"Man Utd\", \"Eric Cantona\")\n",
        "\n",
        "print(mySentence)\n",
        "\n",
        "## What will this show?"
      ],
      "metadata": {
        "collapsed": true,
        "id": "iaPX4XfRsglj"
      },
      "execution_count": null,
      "outputs": []
    },
    {
      "cell_type": "code",
      "source": [
        "## Remember that positions start at 0:\n",
        "\n",
        "myEmptySentence = \"The best Football Team in the World is {1} and the best player is {2}\"\n",
        "\n",
        "mySentence = myEmptySentence.format(\"Man Utd\", \"Eric Cantona\", \"London\")\n",
        "\n",
        "print(mySentence)\n",
        "\n",
        "## Q.  What will this code produce?"
      ],
      "metadata": {
        "id": "pHmbDCcWtn_Z"
      },
      "execution_count": null,
      "outputs": []
    },
    {
      "cell_type": "markdown",
      "metadata": {
        "id": "3huwBgSpN6zf"
      },
      "source": [
        "<br>\n",
        "<br>\n",
        "\n",
        "### A loop with the format method:\n",
        "We next combine the format method with a loop, in this case to print out a list of claims about football teams."
      ]
    },
    {
      "cell_type": "code",
      "execution_count": null,
      "metadata": {
        "id": "rLFzFp1lZIDx"
      },
      "outputs": [],
      "source": [
        "# First, define a sentence with the {} placeholder.\n",
        "text = \"The best team is {}\"\n",
        "\n",
        "# Next, define a list of team names.\n",
        "teams = ['Man Utd', 'AC Milan', 'Barcelona', 'PSG', 'Bayern', 'River Plate']\n",
        "\n",
        "# Finally, create a loop where we deal with the teams one by one.\n",
        "for i in teams:\n",
        "    top_team = text.format(i)    # Format `text` with team name\n",
        "    print(top_team)              # Print our formatted string\n"
      ]
    },
    {
      "cell_type": "code",
      "source": [
        "# Test your understanding.\n",
        "\n",
        "# Mend the code below. Two parts are missing.\n",
        "\n",
        "# Annotate the workbook to explain what is going on at each step\n",
        "\n",
        "# You aim in this test is to spell out LONDON, vertically, as output.\n",
        "\n",
        "#  Define three variables:\n",
        "x = \"{}\"\n",
        "letters = ['L', 'N', 'D', 'O']\n",
        "numbers = [0, 3, 1, 2, 3, 1]\n",
        "\n",
        "\n",
        "# Finally, create a loop where we deal with the teams one by one.\n",
        "for i in numbers:         # Explain: what do you loop over?\n",
        "    y = x.format(i)       # What is going on at this step?\n",
        "    y = int(y)            # Why is this step needed?\n",
        "    print(letters[y])\n",
        "\n"
      ],
      "metadata": {
        "id": "5-xz0rmawtKc",
        "colab": {
          "base_uri": "https://localhost:8080/"
        },
        "outputId": "65632422-2a55-4d9d-93fe-c50903bbf86f"
      },
      "execution_count": 10,
      "outputs": [
        {
          "output_type": "stream",
          "name": "stdout",
          "text": [
            "L\n",
            "O\n",
            "N\n",
            "D\n",
            "O\n",
            "N\n"
          ]
        }
      ]
    }
  ],
  "metadata": {
    "colab": {
      "provenance": []
    },
    "kernelspec": {
      "display_name": "Python 3",
      "name": "python3"
    },
    "language_info": {
      "codemirror_mode": {
        "name": "ipython",
        "version": 3
      },
      "file_extension": ".py",
      "mimetype": "text/x-python",
      "name": "python",
      "nbconvert_exporter": "python",
      "pygments_lexer": "ipython3",
      "version": "3.11.0"
    }
  },
  "nbformat": 4,
  "nbformat_minor": 0
}