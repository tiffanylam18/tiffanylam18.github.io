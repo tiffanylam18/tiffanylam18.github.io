{
  "nbformat": 4,
  "nbformat_minor": 0,
  "metadata": {
    "colab": {
      "provenance": []
    },
    "kernelspec": {
      "name": "python3",
      "display_name": "Python 3"
    },
    "language_info": {
      "name": "python"
    }
  },
  "cells": [
    {
      "cell_type": "code",
      "execution_count": null,
      "metadata": {
        "id": "MtDVgfR_ZfQY",
        "colab": {
          "base_uri": "https://localhost:8080/",
          "height": 17
        },
        "outputId": "d06d3299-6021-4404-b631-60b2afaba1b0"
      },
      "outputs": [
        {
          "output_type": "display_data",
          "data": {
            "text/plain": [
              "<IPython.core.display.Javascript object>"
            ],
            "application/javascript": [
              "\n",
              "    async function download(id, filename, size) {\n",
              "      if (!google.colab.kernel.accessAllowed) {\n",
              "        return;\n",
              "      }\n",
              "      const div = document.createElement('div');\n",
              "      const label = document.createElement('label');\n",
              "      label.textContent = `Downloading \"${filename}\": `;\n",
              "      div.appendChild(label);\n",
              "      const progress = document.createElement('progress');\n",
              "      progress.max = size;\n",
              "      div.appendChild(progress);\n",
              "      document.body.appendChild(div);\n",
              "\n",
              "      const buffers = [];\n",
              "      let downloaded = 0;\n",
              "\n",
              "      const channel = await google.colab.kernel.comms.open(id);\n",
              "      // Send a message to notify the kernel that we're ready.\n",
              "      channel.send({})\n",
              "\n",
              "      for await (const message of channel.messages) {\n",
              "        // Send a message to notify the kernel that we're ready.\n",
              "        channel.send({})\n",
              "        if (message.buffers) {\n",
              "          for (const buffer of message.buffers) {\n",
              "            buffers.push(buffer);\n",
              "            downloaded += buffer.byteLength;\n",
              "            progress.value = downloaded;\n",
              "          }\n",
              "        }\n",
              "      }\n",
              "      const blob = new Blob(buffers, {type: 'application/binary'});\n",
              "      const a = document.createElement('a');\n",
              "      a.href = window.URL.createObjectURL(blob);\n",
              "      a.download = filename;\n",
              "      div.appendChild(a);\n",
              "      a.click();\n",
              "      div.remove();\n",
              "    }\n",
              "  "
            ]
          },
          "metadata": {}
        },
        {
          "output_type": "display_data",
          "data": {
            "text/plain": [
              "<IPython.core.display.Javascript object>"
            ],
            "application/javascript": [
              "download(\"download_e3c93ae5-15a6-4777-b811-2f0830056f28\", \"data_US_FRED-PSAVERT.json\", 129190)"
            ]
          },
          "metadata": {}
        }
      ],
      "source": [
        "# // FRED DOWNLOADER\n",
        "\n",
        "# // Set up system:\n",
        "import requests\n",
        "import json\n",
        "from google.colab import files\n",
        "\n",
        "# // Define API, base filname, and series to download:\n",
        "url_base = \"https://api.stlouisfed.org/fred/series/observations?series_id={}&api_key=22ee7a76e736e32f54f5df0a7171538d&file_type=json\"\n",
        "file_base = \"data_US_FRED-{}.json\"\n",
        "fredSeries = ['PCEPI', 'CPIAUCSL', 'GDPC1', 'OPHNFB', 'USSTHPI']\n",
        "\n",
        "# // Loop to batch download:\n",
        "for i in fredSeries:\n",
        "   URL = url_base.format(i) # update URL\n",
        "   data = requests.get(URL).json() # get data\n",
        "   fileName = file_base.format(i) # update filename\n",
        "   with open(fileName, 'w', encoding='utf-8') as f:\n",
        "     json.dump(data, f, ensure_ascii=False, indent=4) # open data into Colab\n",
        "   files.download(fileName) # download to my machine."
      ]
    }
  ]
}