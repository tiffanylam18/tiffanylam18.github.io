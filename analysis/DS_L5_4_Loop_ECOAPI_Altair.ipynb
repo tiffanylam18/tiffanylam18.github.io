{
  "cells": [
    {
      "cell_type": "markdown",
      "metadata": {
        "id": "Bu3ecoSQuyax"
      },
      "source": [
        "<a href=\"https://colab.research.google.com/drive/14OaBG12KN-AlyYKa-mtxSkE8iMWi06iq?usp=sharing\" target=\"_blank\"><img src=\"https://colab.research.google.com/assets/colab-badge.svg\" alt=\"Open In Colab\"/></a>"
      ]
    },
    {
      "cell_type": "markdown",
      "metadata": {
        "id": "vJwSApkyuyay"
      },
      "source": [
        "**Richard Davies** Data Science - 2025\n",
        "\n",
        "In this notebook we download a chart that we like and want to recreate, then looping over a list of countries to create multiple copies using different API-linked datasets."
      ]
    },
    {
      "cell_type": "markdown",
      "metadata": {
        "id": "FoDZTQwBuyaz"
      },
      "source": [
        "<br>\n",
        "<br>\n",
        "\n",
        "### Preparatory Steps\n",
        "\n",
        "There are a few add-ons to Python that we import to our session at the start. Run this to prepare your session for what follows."
      ]
    },
    {
      "cell_type": "code",
      "execution_count": 1,
      "metadata": {
        "colab": {
          "base_uri": "https://localhost:8080/"
        },
        "collapsed": true,
        "id": "bMT9pGRwuyaz",
        "outputId": "fa607155-1f05-440c-fde7-891aee33f4a8"
      },
      "outputs": [
        {
          "name": "stdout",
          "output_type": "stream",
          "text": [
            "Requirement already satisfied: altair in /usr/local/lib/python3.12/dist-packages (5.5.0)\n",
            "Requirement already satisfied: jinja2 in /usr/local/lib/python3.12/dist-packages (from altair) (3.1.6)\n",
            "Requirement already satisfied: jsonschema>=3.0 in /usr/local/lib/python3.12/dist-packages (from altair) (4.25.1)\n",
            "Requirement already satisfied: narwhals>=1.14.2 in /usr/local/lib/python3.12/dist-packages (from altair) (2.9.0)\n",
            "Requirement already satisfied: packaging in /usr/local/lib/python3.12/dist-packages (from altair) (25.0)\n",
            "Requirement already satisfied: typing-extensions>=4.10.0 in /usr/local/lib/python3.12/dist-packages (from altair) (4.15.0)\n",
            "Requirement already satisfied: attrs>=22.2.0 in /usr/local/lib/python3.12/dist-packages (from jsonschema>=3.0->altair) (25.4.0)\n",
            "Requirement already satisfied: jsonschema-specifications>=2023.03.6 in /usr/local/lib/python3.12/dist-packages (from jsonschema>=3.0->altair) (2025.9.1)\n",
            "Requirement already satisfied: referencing>=0.28.4 in /usr/local/lib/python3.12/dist-packages (from jsonschema>=3.0->altair) (0.37.0)\n",
            "Requirement already satisfied: rpds-py>=0.7.1 in /usr/local/lib/python3.12/dist-packages (from jsonschema>=3.0->altair) (0.28.0)\n",
            "Requirement already satisfied: MarkupSafe>=2.0 in /usr/local/lib/python3.12/dist-packages (from jinja2->altair) (3.0.3)\n"
          ]
        }
      ],
      "source": [
        "# 1. PREPARATORY STEPS - ACCESS PACKAGES WE NEED\n",
        "\n",
        "## // The \"requests\" package, for opening web sites and retrieving information:\n",
        "import requests\n",
        "\n",
        "## // The \"json\" package, for helping us: make JSON easier to read, converting to JSON from Python data (dictionaries).\n",
        "import json\n",
        "\n",
        "## /// Altair. This is a way of visualiting Vega charts in Colab\n",
        "%pip install altair   # Some packagaes need to be installed to the virtual machine before we can import them into our notebook. We can do this with '!pip install'\n",
        "import altair as alt"
      ]
    },
    {
      "cell_type": "markdown",
      "metadata": {
        "id": "ACKxVx82uya1"
      },
      "source": [
        "## Background: Dictionaries"
      ]
    },
    {
      "cell_type": "markdown",
      "metadata": {
        "id": "cpRqJdXzuya1"
      },
      "source": [
        "Dictionaries are another built-in data type. Dictionaries are used to store data values in key:value pairs. They look at lot like the `JSON` structure we've worked with for Vega-lite specs."
      ]
    },
    {
      "cell_type": "code",
      "execution_count": null,
      "metadata": {
        "id": "MK6KroBXuya1"
      },
      "outputs": [],
      "source": [
        "## Create an example dictionary, using the dict() constructor:\n",
        "x = dict(borough=\"X\", city = \"London\", temperature = 5, country = \"England\")\n",
        "print(x)\n",
        "print('\\n')\n",
        "\n",
        "## This is the same as\n",
        "x = {\n",
        "    \"borough\": \"X\",\n",
        "    \"city\": \"London\",\n",
        "    \"temperature\": 5,\n",
        "    \"country\": \"England\"\n",
        "}"
      ]
    },
    {
      "cell_type": "markdown",
      "metadata": {
        "id": "bOctNAxOuya1"
      },
      "source": [
        "<br>\n",
        "<br>\n",
        "\n",
        "### Loop + Dictionary\n",
        "\n",
        "Now we can combine a loop and a dictionary to make multiple different, but similar, dictionaries.\n",
        "\n",
        "*(To see why this is useful, recall from before that ALL we need to make a different chart is a different data source, and that this is just a value in a JSON object.)*\n"
      ]
    },
    {
      "cell_type": "code",
      "execution_count": null,
      "metadata": {
        "id": "1l5AWb_Xuya1"
      },
      "outputs": [],
      "source": [
        "\n",
        "boroughs = [\"Westminster\", \"Camden\", \"Southwark\"]\n",
        "\n",
        "## Now loop over the counties, printing each one.\n",
        "for i in boroughs:\n",
        "  print(i)\n",
        "\n",
        "\n",
        "## Now loop over the counties, printing each one, and calculating their length, and printing this out\n",
        "for i in boroughs:\n",
        "  print(i)\n",
        "  y = len(i)\n",
        "  print(y)\n",
        "\n",
        "## Now loop over the counties, printing each one.\n",
        "for i in boroughs:\n",
        "  x['borough'] = i\n",
        "  print(x)\n",
        "\n"
      ]
    },
    {
      "cell_type": "markdown",
      "metadata": {
        "id": "Cw_M6meQuya2"
      },
      "source": [
        "# Building charts with loops"
      ]
    },
    {
      "cell_type": "markdown",
      "metadata": {
        "id": "6Oy1nSL_uya2"
      },
      "source": [
        "<br>\n",
        "<br>\n",
        "\n",
        "### Access a chart specification that I like\n",
        "\n",
        "Suppose that you see a chart you like on the library page of our website. https://rdeconomist.github.io/library.\n",
        "\n",
        "Here is a spec that we might want to use:\n",
        "https://github.com/RDeconomist/RDeconomist.github.io/blob/main/charts/library/chartLine0.json.\n",
        "\n",
        "Lets first get that onto our machines, and edit it.\n"
      ]
    },
    {
      "cell_type": "code",
      "execution_count": 6,
      "metadata": {
        "colab": {
          "base_uri": "https://localhost:8080/"
        },
        "collapsed": true,
        "id": "jjc8j1xSuya2",
        "outputId": "228a8490-6163-4f41-a816-9b0199bb0ab7"
      },
      "outputs": [
        {
          "name": "stdout",
          "output_type": "stream",
          "text": [
            "{'$schema': 'https://vega.github.io/schema/vega-lite/v5.json', 'data': {'url': 'https://raw.githubusercontent.com/RDeconomist/RDeconomist.github.io/main/charts/library/ukProdOutPerWork.csv'}, 'title': {'text': 'UK Productivity 1960-2023'}, 'width': 300, 'height': 300, 'mark': {'type': 'line', 'color': 'red'}, 'encoding': {'x': {'field': 'Year', 'type': 'temporal'}, 'y': {'field': 'outputPerWorker', 'type': 'quantitative'}}}\n",
            "\n",
            "\n",
            "{\n",
            "    \"$schema\": \"https://vega.github.io/schema/vega-lite/v5.json\",\n",
            "    \"data\": {\n",
            "        \"url\": \"https://raw.githubusercontent.com/RDeconomist/RDeconomist.github.io/main/charts/library/ukProdOutPerWork.csv\"\n",
            "    },\n",
            "    \"title\": {\n",
            "        \"text\": \"UK Productivity 1960-2023\"\n",
            "    },\n",
            "    \"width\": 300,\n",
            "    \"height\": 300,\n",
            "    \"mark\": {\n",
            "        \"type\": \"line\",\n",
            "        \"color\": \"red\"\n",
            "    },\n",
            "    \"encoding\": {\n",
            "        \"x\": {\n",
            "            \"field\": \"Year\",\n",
            "            \"type\": \"temporal\"\n",
            "        },\n",
            "        \"y\": {\n",
            "            \"field\": \"outputPerWorker\",\n",
            "            \"type\": \"quantitative\"\n",
            "        }\n",
            "    }\n",
            "}\n"
          ]
        }
      ],
      "source": [
        "# 2.  ACCESSING AND EXAMINING MY CHART SPEC:\n",
        "\n",
        "## // Define my target URL (note that this is the RAW file)\n",
        "url = \"https://raw.githubusercontent.com/RDeconomist/RDeconomist.github.io/main/charts/library/chartLine0.json\"\n",
        "\n",
        "## // Get this\n",
        "chartSpec = requests.get(url).json()\n",
        "\n",
        "## // Now let's print it out, two different ways:\n",
        "\n",
        "## // First, just the data (no formatting)\n",
        "print(chartSpec)\n",
        "print('\\n')\n",
        "\n",
        "## // Convert to json [using json.dumps()] then print with formatting\n",
        "print(json.dumps(chartSpec, indent=4))"
      ]
    },
    {
      "cell_type": "markdown",
      "metadata": {
        "id": "PTDqMncWuya2"
      },
      "source": [
        "<br>\n",
        "<br>\n",
        "\n",
        "### Editing the specification of a chart. Python Dictionaries\n",
        "\n",
        "Next, note that I can edit parts of a chart spec in Python. Following the steps that we have taken about, the variable we have is a Python \"dictionary\". Once dictionaries have been created we can edit them as we please. You can read about Python dictionaries [here](https://www.w3schools.com/python/python_dictionaries.asp)."
      ]
    },
    {
      "cell_type": "code",
      "execution_count": 7,
      "metadata": {
        "colab": {
          "base_uri": "https://localhost:8080/"
        },
        "id": "U2pVa7OEuya2",
        "outputId": "e824c512-c114-4c5e-9d76-93294292b918"
      },
      "outputs": [
        {
          "data": {
            "text/plain": [
              "{'url': 'https://raw.githubusercontent.com/RDeconomist/RDeconomist.github.io/main/charts/library/ukProdOutPerWork.csv'}"
            ]
          },
          "execution_count": 7,
          "metadata": {},
          "output_type": "execute_result"
        }
      ],
      "source": [
        "chartSpec['data']"
      ]
    },
    {
      "cell_type": "code",
      "execution_count": 8,
      "metadata": {
        "id": "2Sb_LOtXuya2"
      },
      "outputs": [],
      "source": [
        "chartSpec['description'] = 'This is a line chart showing UK productivity'"
      ]
    },
    {
      "cell_type": "code",
      "execution_count": 9,
      "metadata": {
        "colab": {
          "base_uri": "https://localhost:8080/"
        },
        "collapsed": true,
        "id": "cpFHqcrwuya2",
        "outputId": "9301f4ed-9e42-4f19-e44a-d2fb7fc3216d"
      },
      "outputs": [
        {
          "name": "stdout",
          "output_type": "stream",
          "text": [
            "300\n",
            "UK Productivity 1960-2023\n",
            "{\n",
            "  \"$schema\": \"https://vega.github.io/schema/vega-lite/v5.json\",\n",
            "  \"data\": {\n",
            "    \"url\": \"https://raw.githubusercontent.com/RDeconomist/RDeconomist.github.io/main/charts/library/ukProdOutPerWork.csv\"\n",
            "  },\n",
            "  \"title\": {\n",
            "    \"text\": \"I like Data\"\n",
            "  },\n",
            "  \"width\": 1000,\n",
            "  \"height\": 300,\n",
            "  \"mark\": {\n",
            "    \"type\": \"line\",\n",
            "    \"color\": \"red\"\n",
            "  },\n",
            "  \"encoding\": {\n",
            "    \"x\": {\n",
            "      \"field\": \"Year\",\n",
            "      \"type\": \"temporal\"\n",
            "    },\n",
            "    \"y\": {\n",
            "      \"field\": \"outputPerWorker\",\n",
            "      \"type\": \"quantitative\"\n",
            "    }\n",
            "  },\n",
            "  \"description\": \"This is a line chart showing UK productivity\"\n",
            "}\n"
          ]
        }
      ],
      "source": [
        "## Print the width of the chart:\n",
        "print(chartSpec[\"width\"])\n",
        "\n",
        "## Change the width of the chart to 500\n",
        "chartSpec[\"width\"] = 1000\n",
        "\n",
        "## Print the title of the chart:\n",
        "print(chartSpec[\"title\"][\"text\"])\n",
        "\n",
        "## Change the title of the chart:\n",
        "chartSpec[\"title\"][\"text\"] = \"I like Data\"\n",
        "\n",
        "## Print out our new Spec:\n",
        "print(json.dumps(chartSpec, indent=2))"
      ]
    },
    {
      "cell_type": "markdown",
      "metadata": {
        "id": "2ld0C8Nauya2"
      },
      "source": [
        "<br>\n",
        "<br>\n",
        "\n",
        "### API + Loop + Dictionary\n",
        "\n",
        "Combining three of the tools we have learned. In the code below there are two main steps.\n",
        "1. Prepare for the loop, by creatings a kind of \"shell\" dictionary (a simi complete chart spec) that needs some more information (the data source).\n",
        "2. Loop over the list of countries, creating an API link, inserting this into a chart spec, and visualise this."
      ]
    },
    {
      "cell_type": "code",
      "execution_count": 10,
      "metadata": {
        "colab": {
          "base_uri": "https://localhost:8080/"
        },
        "collapsed": true,
        "id": "NqrogsGLuya2",
        "outputId": "b2f9ee9b-c5c2-4ed0-c5e4-9446bc0a5fda"
      },
      "outputs": [
        {
          "name": "stdout",
          "output_type": "stream",
          "text": [
            "{\n",
            "  \"$schema\": \"https://vega.github.io/schema/vega-lite/v5.json\",\n",
            "  \"data\": {\n",
            "    \"url\": \"XYZ\"\n",
            "  },\n",
            "  \"title\": {\n",
            "    \"text\": \"Unemployment\"\n",
            "  },\n",
            "  \"width\": 300,\n",
            "  \"height\": 300,\n",
            "  \"mark\": {\n",
            "    \"type\": \"line\",\n",
            "    \"color\": \"red\"\n",
            "  },\n",
            "  \"encoding\": {\n",
            "    \"x\": {\n",
            "      \"field\": \"date\",\n",
            "      \"type\": \"temporal\"\n",
            "    },\n",
            "    \"y\": {\n",
            "      \"field\": \"value\",\n",
            "      \"type\": \"quantitative\"\n",
            "    }\n",
            "  }\n",
            "}\n"
          ]
        }
      ],
      "source": [
        "### PREPARING OUR BASE SPEC\n",
        "\n",
        "# // Get out base spec (as above)\n",
        "url = \"https://raw.githubusercontent.com/RDeconomist/RDeconomist.github.io/main/charts/library/chartLine0.json\"\n",
        "base_spec = requests.get(url).json()\n",
        "\n",
        "# // Now since all of our work is going to be on unemployment, we need to change the base spec:\n",
        "base_spec['title']['text'] = \"Unemployment\"\n",
        "base_spec['encoding']['x']['field'] = 'date'\n",
        "base_spec['encoding']['y']['field'] = 'value'\n",
        "base_spec['data']['url'] = 'XYZ'\n",
        "\n",
        "# // Print out our new Spec:\n",
        "print(json.dumps(base_spec, indent=2))\n"
      ]
    },
    {
      "cell_type": "markdown",
      "metadata": {
        "id": "5Prnbru3uya2"
      },
      "source": [
        "With that preparation in place we can run our loop:"
      ]
    },
    {
      "cell_type": "code",
      "execution_count": 11,
      "metadata": {
        "colab": {
          "base_uri": "https://localhost:8080/",
          "height": 1000
        },
        "id": "yKTnaNphuya2",
        "outputId": "44ed21fc-9809-420a-e006-df4d1ed12d2c"
      },
      "outputs": [
        {
          "data": {
            "text/html": [
              "\n",
              "<style>\n",
              "  #altair-viz-1efc1ba8289c471792065cc565dfb5d5.vega-embed {\n",
              "    width: 100%;\n",
              "    display: flex;\n",
              "  }\n",
              "\n",
              "  #altair-viz-1efc1ba8289c471792065cc565dfb5d5.vega-embed details,\n",
              "  #altair-viz-1efc1ba8289c471792065cc565dfb5d5.vega-embed details summary {\n",
              "    position: relative;\n",
              "  }\n",
              "</style>\n",
              "<div id=\"altair-viz-1efc1ba8289c471792065cc565dfb5d5\"></div>\n",
              "<script type=\"text/javascript\">\n",
              "  var VEGA_DEBUG = (typeof VEGA_DEBUG == \"undefined\") ? {} : VEGA_DEBUG;\n",
              "  (function(spec, embedOpt){\n",
              "    let outputDiv = document.currentScript.previousElementSibling;\n",
              "    if (outputDiv.id !== \"altair-viz-1efc1ba8289c471792065cc565dfb5d5\") {\n",
              "      outputDiv = document.getElementById(\"altair-viz-1efc1ba8289c471792065cc565dfb5d5\");\n",
              "    }\n",
              "\n",
              "    const paths = {\n",
              "      \"vega\": \"https://cdn.jsdelivr.net/npm/vega@5?noext\",\n",
              "      \"vega-lib\": \"https://cdn.jsdelivr.net/npm/vega-lib?noext\",\n",
              "      \"vega-lite\": \"https://cdn.jsdelivr.net/npm/vega-lite@5.20.1?noext\",\n",
              "      \"vega-embed\": \"https://cdn.jsdelivr.net/npm/vega-embed@6?noext\",\n",
              "    };\n",
              "\n",
              "    function maybeLoadScript(lib, version) {\n",
              "      var key = `${lib.replace(\"-\", \"\")}_version`;\n",
              "      return (VEGA_DEBUG[key] == version) ?\n",
              "        Promise.resolve(paths[lib]) :\n",
              "        new Promise(function(resolve, reject) {\n",
              "          var s = document.createElement('script');\n",
              "          document.getElementsByTagName(\"head\")[0].appendChild(s);\n",
              "          s.async = true;\n",
              "          s.onload = () => {\n",
              "            VEGA_DEBUG[key] = version;\n",
              "            return resolve(paths[lib]);\n",
              "          };\n",
              "          s.onerror = () => reject(`Error loading script: ${paths[lib]}`);\n",
              "          s.src = paths[lib];\n",
              "        });\n",
              "    }\n",
              "\n",
              "    function showError(err) {\n",
              "      outputDiv.innerHTML = `<div class=\"error\" style=\"color:red;\">${err}</div>`;\n",
              "      throw err;\n",
              "    }\n",
              "\n",
              "    function displayChart(vegaEmbed) {\n",
              "      vegaEmbed(outputDiv, spec, embedOpt)\n",
              "        .catch(err => showError(`Javascript Error: ${err.message}<br>This usually means there's a typo in your chart specification. See the javascript console for the full traceback.`));\n",
              "    }\n",
              "\n",
              "    if(typeof define === \"function\" && define.amd) {\n",
              "      requirejs.config({paths});\n",
              "      let deps = [\"vega-embed\"];\n",
              "      require(deps, displayChart, err => showError(`Error loading script: ${err.message}`));\n",
              "    } else {\n",
              "      maybeLoadScript(\"vega\", \"5\")\n",
              "        .then(() => maybeLoadScript(\"vega-lite\", \"5.20.1\"))\n",
              "        .then(() => maybeLoadScript(\"vega-embed\", \"6\"))\n",
              "        .catch(showError)\n",
              "        .then(() => displayChart(vegaEmbed));\n",
              "    }\n",
              "  })({\"config\": {\"view\": {\"continuousWidth\": 300, \"continuousHeight\": 300}}, \"data\": {\"url\": \"https://api.economicsobservatory.com/gbr/unem?vega\"}, \"mark\": {\"type\": \"line\", \"color\": \"red\"}, \"encoding\": {\"x\": {\"field\": \"date\", \"type\": \"temporal\"}, \"y\": {\"field\": \"value\", \"type\": \"quantitative\"}}, \"height\": 300, \"title\": {\"text\": \"Unemployment\", \"subtitle\": \"gbr\"}, \"width\": 300, \"$schema\": \"https://vega.github.io/schema/vega-lite/v5.json\"}, {\"mode\": \"vega-lite\"});\n",
              "</script>"
            ],
            "text/plain": [
              "alt.Chart(...)"
            ]
          },
          "metadata": {},
          "output_type": "display_data"
        },
        {
          "data": {
            "text/html": [
              "\n",
              "<style>\n",
              "  #altair-viz-8718d6f4f0104827b6cfd933945433e4.vega-embed {\n",
              "    width: 100%;\n",
              "    display: flex;\n",
              "  }\n",
              "\n",
              "  #altair-viz-8718d6f4f0104827b6cfd933945433e4.vega-embed details,\n",
              "  #altair-viz-8718d6f4f0104827b6cfd933945433e4.vega-embed details summary {\n",
              "    position: relative;\n",
              "  }\n",
              "</style>\n",
              "<div id=\"altair-viz-8718d6f4f0104827b6cfd933945433e4\"></div>\n",
              "<script type=\"text/javascript\">\n",
              "  var VEGA_DEBUG = (typeof VEGA_DEBUG == \"undefined\") ? {} : VEGA_DEBUG;\n",
              "  (function(spec, embedOpt){\n",
              "    let outputDiv = document.currentScript.previousElementSibling;\n",
              "    if (outputDiv.id !== \"altair-viz-8718d6f4f0104827b6cfd933945433e4\") {\n",
              "      outputDiv = document.getElementById(\"altair-viz-8718d6f4f0104827b6cfd933945433e4\");\n",
              "    }\n",
              "\n",
              "    const paths = {\n",
              "      \"vega\": \"https://cdn.jsdelivr.net/npm/vega@5?noext\",\n",
              "      \"vega-lib\": \"https://cdn.jsdelivr.net/npm/vega-lib?noext\",\n",
              "      \"vega-lite\": \"https://cdn.jsdelivr.net/npm/vega-lite@5.20.1?noext\",\n",
              "      \"vega-embed\": \"https://cdn.jsdelivr.net/npm/vega-embed@6?noext\",\n",
              "    };\n",
              "\n",
              "    function maybeLoadScript(lib, version) {\n",
              "      var key = `${lib.replace(\"-\", \"\")}_version`;\n",
              "      return (VEGA_DEBUG[key] == version) ?\n",
              "        Promise.resolve(paths[lib]) :\n",
              "        new Promise(function(resolve, reject) {\n",
              "          var s = document.createElement('script');\n",
              "          document.getElementsByTagName(\"head\")[0].appendChild(s);\n",
              "          s.async = true;\n",
              "          s.onload = () => {\n",
              "            VEGA_DEBUG[key] = version;\n",
              "            return resolve(paths[lib]);\n",
              "          };\n",
              "          s.onerror = () => reject(`Error loading script: ${paths[lib]}`);\n",
              "          s.src = paths[lib];\n",
              "        });\n",
              "    }\n",
              "\n",
              "    function showError(err) {\n",
              "      outputDiv.innerHTML = `<div class=\"error\" style=\"color:red;\">${err}</div>`;\n",
              "      throw err;\n",
              "    }\n",
              "\n",
              "    function displayChart(vegaEmbed) {\n",
              "      vegaEmbed(outputDiv, spec, embedOpt)\n",
              "        .catch(err => showError(`Javascript Error: ${err.message}<br>This usually means there's a typo in your chart specification. See the javascript console for the full traceback.`));\n",
              "    }\n",
              "\n",
              "    if(typeof define === \"function\" && define.amd) {\n",
              "      requirejs.config({paths});\n",
              "      let deps = [\"vega-embed\"];\n",
              "      require(deps, displayChart, err => showError(`Error loading script: ${err.message}`));\n",
              "    } else {\n",
              "      maybeLoadScript(\"vega\", \"5\")\n",
              "        .then(() => maybeLoadScript(\"vega-lite\", \"5.20.1\"))\n",
              "        .then(() => maybeLoadScript(\"vega-embed\", \"6\"))\n",
              "        .catch(showError)\n",
              "        .then(() => displayChart(vegaEmbed));\n",
              "    }\n",
              "  })({\"config\": {\"view\": {\"continuousWidth\": 300, \"continuousHeight\": 300}}, \"data\": {\"url\": \"https://api.economicsobservatory.com/usa/unem?vega\"}, \"mark\": {\"type\": \"line\", \"color\": \"red\"}, \"encoding\": {\"x\": {\"field\": \"date\", \"type\": \"temporal\"}, \"y\": {\"field\": \"value\", \"type\": \"quantitative\"}}, \"height\": 300, \"title\": {\"text\": \"Unemployment\", \"subtitle\": \"usa\"}, \"width\": 300, \"$schema\": \"https://vega.github.io/schema/vega-lite/v5.json\"}, {\"mode\": \"vega-lite\"});\n",
              "</script>"
            ],
            "text/plain": [
              "alt.Chart(...)"
            ]
          },
          "metadata": {},
          "output_type": "display_data"
        },
        {
          "data": {
            "text/html": [
              "\n",
              "<style>\n",
              "  #altair-viz-732c56c5e18e4ccf8d53d25be7fb30a1.vega-embed {\n",
              "    width: 100%;\n",
              "    display: flex;\n",
              "  }\n",
              "\n",
              "  #altair-viz-732c56c5e18e4ccf8d53d25be7fb30a1.vega-embed details,\n",
              "  #altair-viz-732c56c5e18e4ccf8d53d25be7fb30a1.vega-embed details summary {\n",
              "    position: relative;\n",
              "  }\n",
              "</style>\n",
              "<div id=\"altair-viz-732c56c5e18e4ccf8d53d25be7fb30a1\"></div>\n",
              "<script type=\"text/javascript\">\n",
              "  var VEGA_DEBUG = (typeof VEGA_DEBUG == \"undefined\") ? {} : VEGA_DEBUG;\n",
              "  (function(spec, embedOpt){\n",
              "    let outputDiv = document.currentScript.previousElementSibling;\n",
              "    if (outputDiv.id !== \"altair-viz-732c56c5e18e4ccf8d53d25be7fb30a1\") {\n",
              "      outputDiv = document.getElementById(\"altair-viz-732c56c5e18e4ccf8d53d25be7fb30a1\");\n",
              "    }\n",
              "\n",
              "    const paths = {\n",
              "      \"vega\": \"https://cdn.jsdelivr.net/npm/vega@5?noext\",\n",
              "      \"vega-lib\": \"https://cdn.jsdelivr.net/npm/vega-lib?noext\",\n",
              "      \"vega-lite\": \"https://cdn.jsdelivr.net/npm/vega-lite@5.20.1?noext\",\n",
              "      \"vega-embed\": \"https://cdn.jsdelivr.net/npm/vega-embed@6?noext\",\n",
              "    };\n",
              "\n",
              "    function maybeLoadScript(lib, version) {\n",
              "      var key = `${lib.replace(\"-\", \"\")}_version`;\n",
              "      return (VEGA_DEBUG[key] == version) ?\n",
              "        Promise.resolve(paths[lib]) :\n",
              "        new Promise(function(resolve, reject) {\n",
              "          var s = document.createElement('script');\n",
              "          document.getElementsByTagName(\"head\")[0].appendChild(s);\n",
              "          s.async = true;\n",
              "          s.onload = () => {\n",
              "            VEGA_DEBUG[key] = version;\n",
              "            return resolve(paths[lib]);\n",
              "          };\n",
              "          s.onerror = () => reject(`Error loading script: ${paths[lib]}`);\n",
              "          s.src = paths[lib];\n",
              "        });\n",
              "    }\n",
              "\n",
              "    function showError(err) {\n",
              "      outputDiv.innerHTML = `<div class=\"error\" style=\"color:red;\">${err}</div>`;\n",
              "      throw err;\n",
              "    }\n",
              "\n",
              "    function displayChart(vegaEmbed) {\n",
              "      vegaEmbed(outputDiv, spec, embedOpt)\n",
              "        .catch(err => showError(`Javascript Error: ${err.message}<br>This usually means there's a typo in your chart specification. See the javascript console for the full traceback.`));\n",
              "    }\n",
              "\n",
              "    if(typeof define === \"function\" && define.amd) {\n",
              "      requirejs.config({paths});\n",
              "      let deps = [\"vega-embed\"];\n",
              "      require(deps, displayChart, err => showError(`Error loading script: ${err.message}`));\n",
              "    } else {\n",
              "      maybeLoadScript(\"vega\", \"5\")\n",
              "        .then(() => maybeLoadScript(\"vega-lite\", \"5.20.1\"))\n",
              "        .then(() => maybeLoadScript(\"vega-embed\", \"6\"))\n",
              "        .catch(showError)\n",
              "        .then(() => displayChart(vegaEmbed));\n",
              "    }\n",
              "  })({\"config\": {\"view\": {\"continuousWidth\": 300, \"continuousHeight\": 300}}, \"data\": {\"url\": \"https://api.economicsobservatory.com/can/unem?vega\"}, \"mark\": {\"type\": \"line\", \"color\": \"red\"}, \"encoding\": {\"x\": {\"field\": \"date\", \"type\": \"temporal\"}, \"y\": {\"field\": \"value\", \"type\": \"quantitative\"}}, \"height\": 300, \"title\": {\"text\": \"Unemployment\", \"subtitle\": \"can\"}, \"width\": 300, \"$schema\": \"https://vega.github.io/schema/vega-lite/v5.json\"}, {\"mode\": \"vega-lite\"});\n",
              "</script>"
            ],
            "text/plain": [
              "alt.Chart(...)"
            ]
          },
          "metadata": {},
          "output_type": "display_data"
        },
        {
          "data": {
            "text/html": [
              "\n",
              "<style>\n",
              "  #altair-viz-2a0ca629953f4025b3438aa7ae49bec3.vega-embed {\n",
              "    width: 100%;\n",
              "    display: flex;\n",
              "  }\n",
              "\n",
              "  #altair-viz-2a0ca629953f4025b3438aa7ae49bec3.vega-embed details,\n",
              "  #altair-viz-2a0ca629953f4025b3438aa7ae49bec3.vega-embed details summary {\n",
              "    position: relative;\n",
              "  }\n",
              "</style>\n",
              "<div id=\"altair-viz-2a0ca629953f4025b3438aa7ae49bec3\"></div>\n",
              "<script type=\"text/javascript\">\n",
              "  var VEGA_DEBUG = (typeof VEGA_DEBUG == \"undefined\") ? {} : VEGA_DEBUG;\n",
              "  (function(spec, embedOpt){\n",
              "    let outputDiv = document.currentScript.previousElementSibling;\n",
              "    if (outputDiv.id !== \"altair-viz-2a0ca629953f4025b3438aa7ae49bec3\") {\n",
              "      outputDiv = document.getElementById(\"altair-viz-2a0ca629953f4025b3438aa7ae49bec3\");\n",
              "    }\n",
              "\n",
              "    const paths = {\n",
              "      \"vega\": \"https://cdn.jsdelivr.net/npm/vega@5?noext\",\n",
              "      \"vega-lib\": \"https://cdn.jsdelivr.net/npm/vega-lib?noext\",\n",
              "      \"vega-lite\": \"https://cdn.jsdelivr.net/npm/vega-lite@5.20.1?noext\",\n",
              "      \"vega-embed\": \"https://cdn.jsdelivr.net/npm/vega-embed@6?noext\",\n",
              "    };\n",
              "\n",
              "    function maybeLoadScript(lib, version) {\n",
              "      var key = `${lib.replace(\"-\", \"\")}_version`;\n",
              "      return (VEGA_DEBUG[key] == version) ?\n",
              "        Promise.resolve(paths[lib]) :\n",
              "        new Promise(function(resolve, reject) {\n",
              "          var s = document.createElement('script');\n",
              "          document.getElementsByTagName(\"head\")[0].appendChild(s);\n",
              "          s.async = true;\n",
              "          s.onload = () => {\n",
              "            VEGA_DEBUG[key] = version;\n",
              "            return resolve(paths[lib]);\n",
              "          };\n",
              "          s.onerror = () => reject(`Error loading script: ${paths[lib]}`);\n",
              "          s.src = paths[lib];\n",
              "        });\n",
              "    }\n",
              "\n",
              "    function showError(err) {\n",
              "      outputDiv.innerHTML = `<div class=\"error\" style=\"color:red;\">${err}</div>`;\n",
              "      throw err;\n",
              "    }\n",
              "\n",
              "    function displayChart(vegaEmbed) {\n",
              "      vegaEmbed(outputDiv, spec, embedOpt)\n",
              "        .catch(err => showError(`Javascript Error: ${err.message}<br>This usually means there's a typo in your chart specification. See the javascript console for the full traceback.`));\n",
              "    }\n",
              "\n",
              "    if(typeof define === \"function\" && define.amd) {\n",
              "      requirejs.config({paths});\n",
              "      let deps = [\"vega-embed\"];\n",
              "      require(deps, displayChart, err => showError(`Error loading script: ${err.message}`));\n",
              "    } else {\n",
              "      maybeLoadScript(\"vega\", \"5\")\n",
              "        .then(() => maybeLoadScript(\"vega-lite\", \"5.20.1\"))\n",
              "        .then(() => maybeLoadScript(\"vega-embed\", \"6\"))\n",
              "        .catch(showError)\n",
              "        .then(() => displayChart(vegaEmbed));\n",
              "    }\n",
              "  })({\"config\": {\"view\": {\"continuousWidth\": 300, \"continuousHeight\": 300}}, \"data\": {\"url\": \"https://api.economicsobservatory.com/egy/unem?vega\"}, \"mark\": {\"type\": \"line\", \"color\": \"red\"}, \"encoding\": {\"x\": {\"field\": \"date\", \"type\": \"temporal\"}, \"y\": {\"field\": \"value\", \"type\": \"quantitative\"}}, \"height\": 300, \"title\": {\"text\": \"Unemployment\", \"subtitle\": \"egy\"}, \"width\": 300, \"$schema\": \"https://vega.github.io/schema/vega-lite/v5.json\"}, {\"mode\": \"vega-lite\"});\n",
              "</script>"
            ],
            "text/plain": [
              "alt.Chart(...)"
            ]
          },
          "metadata": {},
          "output_type": "display_data"
        }
      ],
      "source": [
        "### RUNNING OUR LOOP\n",
        "\n",
        "# // Define our base url with the {} placeholder for the country code.\n",
        "base_api = 'https://api.economicsobservatory.com/{}/unem?vega'\n",
        "\n",
        "# // Create a list of countries we want to get data for:\n",
        "countries = ['gbr', 'usa', 'can', 'egy']\n",
        "\n",
        "for i in countries:\n",
        "\n",
        "  ## Build the api that we want to use:\n",
        "  apiToUse = base_api.format(i)\n",
        "  # print(apiToUse)\n",
        "\n",
        "  ## Now build the chart spec:\n",
        "  base_spec['data']['url'] = apiToUse\n",
        "  base_spec['title']['subtitle'] = i\n",
        "\n",
        "  # /// Turn the spec into JSON\n",
        "  specJSON = json.dumps(base_spec)\n",
        "\n",
        "  # /// Turn the json into an Altair chart and display it:\n",
        "  new_chart = alt.Chart.from_json(specJSON)\n",
        "  new_chart.display()\n"
      ]
    },
    {
      "cell_type": "code",
      "execution_count": null,
      "metadata": {
        "id": "y2JM5Q6ouya3"
      },
      "outputs": [],
      "source": []
    }
  ],
  "metadata": {
    "colab": {
      "provenance": []
    },
    "kernelspec": {
      "display_name": "base",
      "language": "python",
      "name": "python3"
    },
    "language_info": {
      "codemirror_mode": {
        "name": "ipython",
        "version": 3
      },
      "file_extension": ".py",
      "mimetype": "text/x-python",
      "name": "python",
      "nbconvert_exporter": "python",
      "pygments_lexer": "ipython3",
      "version": "3.11.4"
    }
  },
  "nbformat": 4,
  "nbformat_minor": 0
}
